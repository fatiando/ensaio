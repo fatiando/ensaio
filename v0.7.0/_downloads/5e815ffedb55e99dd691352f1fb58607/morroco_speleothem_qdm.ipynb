{
  "cells": [
    {
      "cell_type": "markdown",
      "metadata": {},
      "source": [
        "\n# QDM magnetic microscopy dataset of a speleothem from Morocco\n\nHigh-resolution magnetic map of a stalagmite sample from Wintimdouine Cave,\nMorocco, created using Quantum Diamond Microscope (QDM) measurements at Harvard\nUniversity. The data were collected to explore the magnetic remanence\nproperties of hematite and magnetite within the sample, providing insight into\npast geomagnetic field variations recorded in cave deposits.\n\n**Original source:** Carmo, Janine; Fu, Roger; Trindade, Ricardo; Piascik,\nSamuel (2023). QDM magnetic microscopy dataset of a speleothem from\nMorocco. figshare. Dataset.\n[10.6084/m9.figshare.22965200.v1](https://doi.org/10.6084/m9.figshare.22965200.v1)_\n\n**Pre-processing:** [Source code for preparation of the original dataset for\nredistribution in Ensaio](https://github.com/fatiando-data/morroco-speleothem-qdm)_\n"
      ]
    },
    {
      "cell_type": "code",
      "execution_count": null,
      "metadata": {
        "collapsed": false
      },
      "outputs": [],
      "source": [
        "import matplotlib.pyplot as plt\nimport xarray as xr\n\nimport ensaio"
      ]
    },
    {
      "cell_type": "markdown",
      "metadata": {},
      "source": [
        "Download and cache the data and return the path to it on disk. We'll use the\nnetCDF version because it's smaller and can be loaded with xarray easily.\n\n"
      ]
    },
    {
      "cell_type": "code",
      "execution_count": null,
      "metadata": {
        "collapsed": false
      },
      "outputs": [],
      "source": [
        "fname = ensaio.fetch_morroco_speleothem_qdm(version=1, file_format=\"netcdf\")\nprint(fname)"
      ]
    },
    {
      "cell_type": "markdown",
      "metadata": {},
      "source": [
        "Load the netCDF grid with xarray\n\n"
      ]
    },
    {
      "cell_type": "code",
      "execution_count": null,
      "metadata": {
        "collapsed": false
      },
      "outputs": [],
      "source": [
        "data = xr.load_dataarray(fname)\ndata"
      ]
    },
    {
      "cell_type": "markdown",
      "metadata": {},
      "source": [
        "Make a pseudo-color map of the magnetic microscopy data and adjust the scale\nbecause of some very strong sources.\n\n"
      ]
    },
    {
      "cell_type": "code",
      "execution_count": null,
      "metadata": {
        "collapsed": false
      },
      "outputs": [],
      "source": [
        "fig, ax = plt.subplots(1, 1, figsize=(9, 4.8), layout=\"constrained\")\nscale = 2500\ndata.plot.imshow(ax=ax, cmap=\"RdBu_r\", vmin=-scale, vmax=scale)\nax.set_aspect(\"equal\")\nplt.show()"
      ]
    }
  ],
  "metadata": {
    "kernelspec": {
      "display_name": "Python 3",
      "language": "python",
      "name": "python3"
    },
    "language_info": {
      "codemirror_mode": {
        "name": "ipython",
        "version": 3
      },
      "file_extension": ".py",
      "mimetype": "text/x-python",
      "name": "python",
      "nbconvert_exporter": "python",
      "pygments_lexer": "ipython3",
      "version": "3.13.0"
    }
  },
  "nbformat": 4,
  "nbformat_minor": 0
}