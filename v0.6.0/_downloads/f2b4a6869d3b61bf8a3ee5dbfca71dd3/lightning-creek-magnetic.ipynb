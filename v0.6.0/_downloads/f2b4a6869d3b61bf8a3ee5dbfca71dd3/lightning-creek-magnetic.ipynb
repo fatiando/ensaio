{
  "cells": [
    {
      "cell_type": "markdown",
      "metadata": {},
      "source": [
        "\n# Magnetic anomaly grid of the Lightning Creek Sill Complex, Australia\n\nThis is a section of an airborne survey acquired in 1990 by the Queensland\nGovernment, Australia. The grid has 50 m resolution (UTM coordinates) and\nis at a uniform orthometric height of 500 m.\n\n**Original source:**\n[Geophysical Acquisition & Processing Section 2019. MIM Data from Mt Isa\nInlier, QLD (P1029), magnetic line data, AWAGS levelled. Geoscience Australia,\nCanberra](http://pid.geoscience.gov.au/dataset/ga/142419)_\n\n**Pre-processing:** [Source code for preparation of the original dataset for\nredistribution in Ensaio](https://github.com/fatiando-data/lightning-creek-magnetic-grid)_\n"
      ]
    },
    {
      "cell_type": "code",
      "execution_count": null,
      "metadata": {
        "collapsed": false
      },
      "outputs": [],
      "source": [
        "import pygmt\nimport xarray as xr\n\nimport ensaio"
      ]
    },
    {
      "cell_type": "markdown",
      "metadata": {},
      "source": [
        "Download and cache the data and return the path to it on disk\n\n"
      ]
    },
    {
      "cell_type": "code",
      "execution_count": null,
      "metadata": {
        "collapsed": false
      },
      "outputs": [],
      "source": [
        "fname = ensaio.fetch_lightning_creek_magnetic(version=1)\nprint(fname)"
      ]
    },
    {
      "cell_type": "markdown",
      "metadata": {},
      "source": [
        "Load the netCDF grid with xarray\n\n"
      ]
    },
    {
      "cell_type": "code",
      "execution_count": null,
      "metadata": {
        "collapsed": false
      },
      "outputs": [],
      "source": [
        "data = xr.load_dataarray(fname)\ndata"
      ]
    },
    {
      "cell_type": "markdown",
      "metadata": {},
      "source": [
        "Make a PyGMT pseudo-color map of the total field magnetic anomaly.\n\n"
      ]
    },
    {
      "cell_type": "code",
      "execution_count": null,
      "metadata": {
        "collapsed": false
      },
      "outputs": [],
      "source": [
        "fig = pygmt.Figure()\nscale = 2500\npygmt.makecpt(cmap=\"polar+h\", series=[-scale, scale], background=True)\nfig.grdimage(\n    grid=data,\n    cmap=True,\n    shading=\"+a45+nt0.1\",\n    projection=\"X15c/17c\",\n    frame=\"af\",\n)\nfig.colorbar(\n    frame='af+l\"total field magnetic anomaly [nT]\"',\n    position=\"JBC+h+o0/1c+e\",\n)\nfig.show()"
      ]
    },
    {
      "cell_type": "markdown",
      "metadata": {},
      "source": [
        "The anomaly at the top right is the  Lightning Creek sill complex.\n\n"
      ]
    }
  ],
  "metadata": {
    "kernelspec": {
      "display_name": "Python 3",
      "language": "python",
      "name": "python3"
    },
    "language_info": {
      "codemirror_mode": {
        "name": "ipython",
        "version": 3
      },
      "file_extension": ".py",
      "mimetype": "text/x-python",
      "name": "python",
      "nbconvert_exporter": "python",
      "pygments_lexer": "ipython3",
      "version": "3.11.0"
    }
  },
  "nbformat": 4,
  "nbformat_minor": 0
}