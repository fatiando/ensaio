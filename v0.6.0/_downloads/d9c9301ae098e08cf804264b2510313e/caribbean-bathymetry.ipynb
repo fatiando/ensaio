{
  "cells": [
    {
      "cell_type": "markdown",
      "metadata": {},
      "source": [
        "\n# Bathymetry single-beam surveys of the Caribbean\n\nThis dataset is a compilation of several public domain single-beam bathymetry\nsurveys of the ocean in the Caribbean. The data display a wide range of\ntectonic activity and uneven distribution.\n\n**Original source:** [NOAA NCEI](https://ngdc.noaa.gov/mgg/geodas/trackline.html)_\n\n**Pre-processing:** [Source code for preparation of the original dataset for\nredistribution in Ensaio](https://github.com/fatiando-data/caribbean-bathymetry)_\n\n.. admonition:: Changes in version 2\n    :class: note\n\n    In version 1, there were 1,938,095 data taking up a larger area. The\n    data were ``depth_m`` and positive downward. Version 2, cropped the\n    data to make it more manageable and converted the depths to bathymetric\n    heights (negative downward).\n"
      ]
    },
    {
      "cell_type": "code",
      "execution_count": null,
      "metadata": {
        "collapsed": false
      },
      "outputs": [],
      "source": [
        "import pandas as pd\nimport pygmt\n\nimport ensaio"
      ]
    },
    {
      "cell_type": "markdown",
      "metadata": {},
      "source": [
        "Download and cache the data and return the path to it on disk\n\n"
      ]
    },
    {
      "cell_type": "code",
      "execution_count": null,
      "metadata": {
        "collapsed": false
      },
      "outputs": [],
      "source": [
        "fname = ensaio.fetch_caribbean_bathymetry(version=2)\nprint(fname)"
      ]
    },
    {
      "cell_type": "markdown",
      "metadata": {},
      "source": [
        "Load the CSV formatted data with pandas\n\n"
      ]
    },
    {
      "cell_type": "code",
      "execution_count": null,
      "metadata": {
        "collapsed": false
      },
      "outputs": [],
      "source": [
        "data = pd.read_csv(fname)\ndata"
      ]
    },
    {
      "cell_type": "markdown",
      "metadata": {},
      "source": [
        "Make a PyGMT map with the data points colored by the bathymetry.\n\n"
      ]
    },
    {
      "cell_type": "code",
      "execution_count": null,
      "metadata": {
        "collapsed": false
      },
      "outputs": [],
      "source": [
        "fig = pygmt.Figure()\npygmt.makecpt(\n    cmap=\"cmocean/topo+h\",\n    series=[data.bathymetry_m.min(), data.bathymetry_m.max()],\n)\nfig.plot(\n    x=data.longitude,\n    y=data.latitude,\n    fill=data.bathymetry_m,\n    cmap=True,\n    style=\"c0.02c\",\n    projection=\"M15c\",\n    frame=True,\n)\nfig.colorbar(frame='af+l\"bathymetry [m]\"')\nfig.coast(land=\"#666666\")\nfig.show()"
      ]
    }
  ],
  "metadata": {
    "kernelspec": {
      "display_name": "Python 3",
      "language": "python",
      "name": "python3"
    },
    "language_info": {
      "codemirror_mode": {
        "name": "ipython",
        "version": 3
      },
      "file_extension": ".py",
      "mimetype": "text/x-python",
      "name": "python",
      "nbconvert_exporter": "python",
      "pygments_lexer": "ipython3",
      "version": "3.11.0"
    }
  },
  "nbformat": 4,
  "nbformat_minor": 0
}