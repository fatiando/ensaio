{
  "cells": [
    {
      "cell_type": "code",
      "execution_count": null,
      "metadata": {
        "collapsed": false
      },
      "outputs": [],
      "source": [
        "%matplotlib inline"
      ]
    },
    {
      "cell_type": "markdown",
      "metadata": {},
      "source": [
        "\n# Earth gravity grid at 10 arc-minute resolution\n\nThe grid is grid-node registered and stored in netCDF with CF-compliant\nmetadata. The gravity values are derived from the EIGEN-6C4 spherical harmonic\nmodel. Here \"gravity\" refers to the combined gravitational and centrifugal\naccelerations.\n\nThe data are calculated uniformly at 10 km above the WGS84 ellipsoid.\n\n**Original source:** `EIGEN-6C4 model\n<https://doi.org/10.5880/icgem.2015.1>`__\n"
      ]
    },
    {
      "cell_type": "code",
      "execution_count": null,
      "metadata": {
        "collapsed": false
      },
      "outputs": [],
      "source": [
        "import pygmt\nimport xarray as xr\n\nimport ensaio"
      ]
    },
    {
      "cell_type": "markdown",
      "metadata": {},
      "source": [
        "Download and cache the data and return the path to it on disk.\n\n"
      ]
    },
    {
      "cell_type": "code",
      "execution_count": null,
      "metadata": {
        "collapsed": false
      },
      "outputs": [],
      "source": [
        "fname = ensaio.fetch_earth_gravity(version=1)\nprint(fname)"
      ]
    },
    {
      "cell_type": "markdown",
      "metadata": {},
      "source": [
        "Load the netCDF grid with xarray.\n\n"
      ]
    },
    {
      "cell_type": "code",
      "execution_count": null,
      "metadata": {
        "collapsed": false
      },
      "outputs": [],
      "source": [
        "data = xr.load_dataarray(fname)\ndata"
      ]
    },
    {
      "cell_type": "markdown",
      "metadata": {},
      "source": [
        "Make a PyGMT pseudo-color map of the grid in a Mollweide projection.\n\n"
      ]
    },
    {
      "cell_type": "code",
      "execution_count": null,
      "metadata": {
        "collapsed": false
      },
      "outputs": [],
      "source": [
        "fig = pygmt.Figure()\nfig.basemap(\n    region=\"g\",\n    projection=\"W15c\",\n    frame=True,\n)\nfig.grdimage(data, cmap=\"viridis\", shading=\"+nt0.5\")\nfig.colorbar(frame='af+l\"gravity [mGal]\"')\nfig.coast(shorelines=True, resolution=\"c\", area_thresh=1e4)\nfig.show()"
      ]
    }
  ],
  "metadata": {
    "kernelspec": {
      "display_name": "Python 3",
      "language": "python",
      "name": "python3"
    },
    "language_info": {
      "codemirror_mode": {
        "name": "ipython",
        "version": 3
      },
      "file_extension": ".py",
      "mimetype": "text/x-python",
      "name": "python",
      "nbconvert_exporter": "python",
      "pygments_lexer": "ipython3",
      "version": "3.9.0"
    }
  },
  "nbformat": 4,
  "nbformat_minor": 0
}