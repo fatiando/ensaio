{
  "cells": [
    {
      "cell_type": "code",
      "execution_count": null,
      "metadata": {
        "collapsed": false
      },
      "outputs": [],
      "source": [
        "%matplotlib inline"
      ]
    },
    {
      "cell_type": "markdown",
      "metadata": {},
      "source": [
        "\n\n# Downloading data\n\nEnsaio provides functions for downloading datasets from the `Fatiando a Terra\nDatasets <https://github.com/fatiando-data>`__ collection to your computer.\nThese functions don't attempt to do any loading of the data into memory and\nonly return the path of the downloaded file on your computer.\n\nTo take care of the actual loading of the data, we'll import\n`Pandas <https://pandas.pydata.org/>`__ as well since the data we'll use is in\nCSV format.\n"
      ]
    },
    {
      "cell_type": "code",
      "execution_count": null,
      "metadata": {
        "collapsed": false
      },
      "outputs": [],
      "source": [
        "import pandas as pd\n\nimport ensaio"
      ]
    },
    {
      "cell_type": "markdown",
      "metadata": {},
      "source": [
        "To download a particular dataset, say version 1 of our Southern Africa\ngravity data, call the corresponding ``fetch_*`` functions:\n\n"
      ]
    },
    {
      "cell_type": "code",
      "execution_count": null,
      "metadata": {
        "collapsed": false
      },
      "outputs": [],
      "source": [
        "fname = ensaio.fetch_southern_africa_gravity(version=1)\nprint(fname)"
      ]
    },
    {
      "cell_type": "markdown",
      "metadata": {},
      "source": [
        ".. tip::\n\n    The version of the data should **always** be explicitly included so that\n    you code continues to work in the same way even if a newer version of the\n    data is released.\n\nIf the data are not yet available on your computer, Ensaio will automatically\ndownload it and return the path to the downloaded file.\nIn the file had already been downloaded, Ensaio won't repeat the download and\nwill only return the path to the existing file.\n\nThis means that placing the code above in a Python script or Jupyter notebook\nwill mean that whoever runs it is guaranteed to get the data on their\ncomputer.\nRunning the code multiple times or using the same data in multiple places\nwill only trigger a single download, saving bandwidth and storage space.\n\n<div class=\"alert alert-info\"><h4>Note</h4><p>Ensaio uses `Pooch <https://www.fatiando.org/pooch/>`__ under the hood to\n    make all of this work.</p></div>\n\nOnce we have the path to the data file, we can load it like we would any\nother data file. In this case, our data is in a CSV file so the natural\nchoice is to use `Pandas <https://pandas.pydata.org/>`__:\n\n"
      ]
    },
    {
      "cell_type": "code",
      "execution_count": null,
      "metadata": {
        "collapsed": false
      },
      "outputs": [],
      "source": [
        "data = pd.read_csv(fname)\ndata"
      ]
    },
    {
      "cell_type": "markdown",
      "metadata": {},
      "source": [
        ".. seealso::\n\n    You can browse a list of all available datasets in `api` or\n    `gallery`.\n\n## Where are the data?\n\nThe location of the cache folder varies by operating system. Use the\n:func:`ensaio.locate` function to get its location on your computer.\n\n"
      ]
    },
    {
      "cell_type": "code",
      "execution_count": null,
      "metadata": {
        "collapsed": false
      },
      "outputs": [],
      "source": [
        "print(ensaio.locate())"
      ]
    },
    {
      "cell_type": "markdown",
      "metadata": {},
      "source": [
        "You can also set the location manually by creating a ``ENSAIO_DATA_DIR``\nenvironment variable with the desired path. Ensaio will search for this\nvariable and if found will use its value instead of the default cache folder.\n\n"
      ]
    }
  ],
  "metadata": {
    "kernelspec": {
      "display_name": "Python 3",
      "language": "python",
      "name": "python3"
    },
    "language_info": {
      "codemirror_mode": {
        "name": "ipython",
        "version": 3
      },
      "file_extension": ".py",
      "mimetype": "text/x-python",
      "name": "python",
      "nbconvert_exporter": "python",
      "pygments_lexer": "ipython3",
      "version": "3.9.0"
    }
  },
  "nbformat": 4,
  "nbformat_minor": 0
}