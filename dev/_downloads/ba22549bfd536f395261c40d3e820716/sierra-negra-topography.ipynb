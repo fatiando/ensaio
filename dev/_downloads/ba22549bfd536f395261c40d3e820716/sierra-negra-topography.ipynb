{
  "cells": [
    {
      "cell_type": "markdown",
      "metadata": {},
      "source": [
        "\n# Topography of the 2018 lava flows of the Sierra Negra volcano, Ecuador\n\nThis is a structure-from-motion point cloud of the 2018 lava flows of the\nSierra Negra volcano, located on the Gal\u00e1pagos islands, Ecuador. The survey\ncovers a small region at the flank of the volcano and shows different\nstructures and terrain roughness on the lava flows.\n\n**Original source:** [Carr, B. (2020). Sierra Negra Volcano (TIR Flight 3):\nGal\u00e1pagos, Ecuador, October 22 2018. Distributed by OpenTopography.](https://doi.org/10.5069/G957196P)_\n\n**Pre-processing:** [Source code for preparation of the original dataset for\nredistribution in Ensaio](https://github.com/fatiando-data/sierra-negra-topography)_\n"
      ]
    },
    {
      "cell_type": "code",
      "execution_count": null,
      "metadata": {
        "collapsed": false
      },
      "outputs": [],
      "source": [
        "import pandas as pd\nimport pygmt\n\nimport ensaio"
      ]
    },
    {
      "cell_type": "markdown",
      "metadata": {},
      "source": [
        "Download and cache the data and return the path to it on disk\n\n"
      ]
    },
    {
      "cell_type": "code",
      "execution_count": null,
      "metadata": {
        "collapsed": false
      },
      "outputs": [],
      "source": [
        "fname = ensaio.fetch_sierra_negra_topography(version=1)\nprint(fname)"
      ]
    },
    {
      "cell_type": "markdown",
      "metadata": {},
      "source": [
        "Load the CSV formatted data with pandas\n\n"
      ]
    },
    {
      "cell_type": "code",
      "execution_count": null,
      "metadata": {
        "collapsed": false
      },
      "outputs": [],
      "source": [
        "data = pd.read_csv(fname)\ndata"
      ]
    },
    {
      "cell_type": "markdown",
      "metadata": {},
      "source": [
        "Make a PyGMT map with the data points colored by the elevation.\n\n"
      ]
    },
    {
      "cell_type": "code",
      "execution_count": null,
      "metadata": {
        "collapsed": false
      },
      "outputs": [],
      "source": [
        "fig = pygmt.Figure()\nfig.basemap(\n    region=[\n        data.longitude.min(),\n        data.longitude.max(),\n        data.latitude.min(),\n        data.latitude.max(),\n    ],\n    projection=\"M15c\",\n    frame=True,\n)\npygmt.makecpt(cmap=\"viridis\", series=[data.elevation_m.min(), data.elevation_m.max()])\nfig.plot(\n    x=data.longitude, y=data.latitude, fill=data.elevation_m, cmap=True, style=\"c0.01c\"\n)\nfig.colorbar(frame='af+l\"elevation [m]\"')\nfig.show()"
      ]
    }
  ],
  "metadata": {
    "kernelspec": {
      "display_name": "Python 3",
      "language": "python",
      "name": "python3"
    },
    "language_info": {
      "codemirror_mode": {
        "name": "ipython",
        "version": 3
      },
      "file_extension": ".py",
      "mimetype": "text/x-python",
      "name": "python",
      "nbconvert_exporter": "python",
      "pygments_lexer": "ipython3",
      "version": "3.11.0"
    }
  },
  "nbformat": 4,
  "nbformat_minor": 0
}