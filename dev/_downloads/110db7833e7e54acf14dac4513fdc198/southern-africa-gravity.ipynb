{
  "cells": [
    {
      "cell_type": "code",
      "execution_count": null,
      "metadata": {
        "collapsed": false
      },
      "outputs": [],
      "source": [
        "%matplotlib inline"
      ]
    },
    {
      "cell_type": "markdown",
      "metadata": {},
      "source": [
        "\n# Gravity ground-based surveys of Southern Africa\n\nThis dataset is a compilation of several public domain ground measurements\nof gravity from Southern Africa. The observations are the absolute gravity\nvalues in mGal. The horizontal datum is not specified and heights are\nreferenced to \"sea level\", which we will interpret as the geoid (which\nrealization is likely not relevant since the uncertainty in the height is\nprobably larger than geoid model differences).\n\n**Original source:** `NOAA NCEI\n<https://ngdc.noaa.gov/mgg/geodas/trackline.html>`__\n"
      ]
    },
    {
      "cell_type": "code",
      "execution_count": null,
      "metadata": {
        "collapsed": false
      },
      "outputs": [],
      "source": [
        "import pandas as pd\nimport pygmt\n\nimport ensaio.v1 as ensaio"
      ]
    },
    {
      "cell_type": "markdown",
      "metadata": {},
      "source": [
        "Download and cache the data and return the path to it on disk\n\n"
      ]
    },
    {
      "cell_type": "code",
      "execution_count": null,
      "metadata": {
        "collapsed": false
      },
      "outputs": [],
      "source": [
        "fname = ensaio.fetch_southern_africa_gravity()\nprint(fname)"
      ]
    },
    {
      "cell_type": "markdown",
      "metadata": {},
      "source": [
        "Load the CSV formatted data with pandas\n\n"
      ]
    },
    {
      "cell_type": "code",
      "execution_count": null,
      "metadata": {
        "collapsed": false
      },
      "outputs": [],
      "source": [
        "data = pd.read_csv(fname)\ndata"
      ]
    },
    {
      "cell_type": "markdown",
      "metadata": {},
      "source": [
        "Make a PyGMT map with the data points colored by the gravity data.\n\n"
      ]
    },
    {
      "cell_type": "code",
      "execution_count": null,
      "metadata": {
        "collapsed": false
      },
      "outputs": [],
      "source": [
        "fig = pygmt.Figure()\nfig.basemap(\n    region=[\n        data.longitude.min() - 1,\n        data.longitude.max() + 1,\n        data.latitude.min() - 1,\n        data.latitude.max() + 1,\n    ],\n    projection=\"M15c\",\n    frame=True,\n)\npygmt.makecpt(cmap=\"viridis\", series=[data.gravity_mgal.min(), data.gravity_mgal.max()])\nfig.plot(\n    x=data.longitude,\n    y=data.latitude,\n    color=data.gravity_mgal,\n    cmap=True,\n    style=\"c0.05c\",\n)\nfig.colorbar(frame='af+l\"gravity [mGal]\"')\nfig.coast(shorelines=True, water=\"royalblue4\", area_thresh=1e4)\nfig.show()"
      ]
    }
  ],
  "metadata": {
    "kernelspec": {
      "display_name": "Python 3",
      "language": "python",
      "name": "python3"
    },
    "language_info": {
      "codemirror_mode": {
        "name": "ipython",
        "version": 3
      },
      "file_extension": ".py",
      "mimetype": "text/x-python",
      "name": "python",
      "nbconvert_exporter": "python",
      "pygments_lexer": "ipython3",
      "version": "3.9.0"
    }
  },
  "nbformat": 4,
  "nbformat_minor": 0
}