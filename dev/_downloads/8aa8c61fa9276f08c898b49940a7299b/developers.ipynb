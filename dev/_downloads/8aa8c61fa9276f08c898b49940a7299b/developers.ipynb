{
  "cells": [
    {
      "cell_type": "code",
      "execution_count": null,
      "metadata": {
        "collapsed": false
      },
      "outputs": [],
      "source": [
        "%matplotlib inline"
      ]
    },
    {
      "cell_type": "markdown",
      "metadata": {},
      "source": [
        "\n\n# Using Ensaio in your project\n\nOne of the main use cases of Ensaio is to provide reproducible and\neasy-to-access data for the documentation of other Python projects.\nThese are a few tips and tricks for using Ensaio in your own project.\n"
      ]
    },
    {
      "cell_type": "markdown",
      "metadata": {},
      "source": [
        "## Explicitly set data versions\n\nNew version of each dataset may be included in new Ensaio releases. We'll do\nour very best to always keep the older data versions available as well to\navoid breaking existing tutorials and documentation.\n\nWe recommend always explicitly setting the data version when fetching a\ndataset:\n\n\n"
      ]
    },
    {
      "cell_type": "code",
      "execution_count": null,
      "metadata": {
        "collapsed": false
      },
      "outputs": [],
      "source": [
        "import ensaio\n\nfname = ensaio.fetch_southern_africa_gravity(version=1)"
      ]
    },
    {
      "cell_type": "markdown",
      "metadata": {},
      "source": [
        "This way, your documentation/tutorial should still use the same data (and\nhopefully still produce the same result) even if new versions of Ensaio are\ninstalled.\nOtherwise, people going through older examples with newer versions of Ensaio\ncould get different results (or worse, broken code).\n\n.. tip::\n\n    We still recommend updating to the latest data versions in new tutorials\n    and documentation whenever you can.\n\n## Download from GitHub on CI\n\nBy default, the data sources for Ensaio are the archives with the given DOIs\nfor each dataset (usually\n`Zenodo <https://zenodo.org/communities/fatiando>`__).\nAlternatively, you can ask Ensaio to download from the GitHub release of each\ndataset by setting the environment variable ``ENSAIO_DATA_FROM_GITHUB=true``.\n\nWe recommend using the environment variable when running on continuous\nintegration (CI).\nThis will minimize the load that is placed on public data servers like\nZenodo.\nWhen using GitHub Actions, this may even make the downloads much faster since\nthe data source is likely physically closer to the CI infrastructure.\n\n"
      ]
    }
  ],
  "metadata": {
    "kernelspec": {
      "display_name": "Python 3",
      "language": "python",
      "name": "python3"
    },
    "language_info": {
      "codemirror_mode": {
        "name": "ipython",
        "version": 3
      },
      "file_extension": ".py",
      "mimetype": "text/x-python",
      "name": "python",
      "nbconvert_exporter": "python",
      "pygments_lexer": "ipython3",
      "version": "3.9.0"
    }
  },
  "nbformat": 4,
  "nbformat_minor": 0
}