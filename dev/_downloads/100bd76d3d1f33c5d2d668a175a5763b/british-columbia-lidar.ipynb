{
  "cells": [
    {
      "cell_type": "code",
      "execution_count": null,
      "metadata": {
        "collapsed": false
      },
      "outputs": [],
      "source": [
        "%matplotlib inline"
      ]
    },
    {
      "cell_type": "markdown",
      "metadata": {},
      "source": [
        "\n# Lidar point cloud of the Trail Islands in British Columbia, Canada\n\nThis is a lidar point cloud (ground reflections only) sliced to the small\n`Trail Islands <https://apps.gov.bc.ca/pub/bcgnws/names/21973.html>`__\nto the North of Vancouver. The islands have some nice looking topography and\ntheir isolated nature creates problems for some interpolation methods.\n\n**Original source:** `LidarBC\n<https://www2.gov.bc.ca/gov/content/data/geographic-data-services/lidarbc>`__\n"
      ]
    },
    {
      "cell_type": "code",
      "execution_count": null,
      "metadata": {
        "collapsed": false
      },
      "outputs": [],
      "source": [
        "import pandas as pd\nimport pygmt\n\nimport ensaio.v1 as ensaio"
      ]
    },
    {
      "cell_type": "markdown",
      "metadata": {},
      "source": [
        "Download and cache the data and return the path to it on disk\n\n"
      ]
    },
    {
      "cell_type": "code",
      "execution_count": null,
      "metadata": {
        "collapsed": false
      },
      "outputs": [],
      "source": [
        "fname = ensaio.fetch_british_columbia_lidar()\nprint(fname)"
      ]
    },
    {
      "cell_type": "markdown",
      "metadata": {},
      "source": [
        "Load the CSV formatted data with pandas\n\n"
      ]
    },
    {
      "cell_type": "code",
      "execution_count": null,
      "metadata": {
        "collapsed": false
      },
      "outputs": [],
      "source": [
        "data = pd.read_csv(fname)\ndata"
      ]
    },
    {
      "cell_type": "markdown",
      "metadata": {},
      "source": [
        "Make a PyGMT map with the data points colored by the elevation.\n\n"
      ]
    },
    {
      "cell_type": "code",
      "execution_count": null,
      "metadata": {
        "collapsed": false
      },
      "outputs": [],
      "source": [
        "fig = pygmt.Figure()\nfig.basemap(\n    region=[\n        data.longitude.min(),\n        data.longitude.max(),\n        data.latitude.min(),\n        data.latitude.max(),\n    ],\n    projection=\"M15c\",\n    frame=True,\n)\npygmt.makecpt(cmap=\"viridis\", series=[data.elevation_m.min(), data.elevation_m.max()])\nfig.plot(\n    x=data.longitude, y=data.latitude, color=data.elevation_m, cmap=True, style=\"c0.05c\"\n)\nfig.colorbar(frame='af+l\"elevation [m]\"')\nfig.show()"
      ]
    }
  ],
  "metadata": {
    "kernelspec": {
      "display_name": "Python 3",
      "language": "python",
      "name": "python3"
    },
    "language_info": {
      "codemirror_mode": {
        "name": "ipython",
        "version": 3
      },
      "file_extension": ".py",
      "mimetype": "text/x-python",
      "name": "python",
      "nbconvert_exporter": "python",
      "pygments_lexer": "ipython3",
      "version": "3.9.9"
    }
  },
  "nbformat": 4,
  "nbformat_minor": 0
}