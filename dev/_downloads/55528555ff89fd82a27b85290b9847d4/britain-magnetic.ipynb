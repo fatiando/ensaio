{
  "cells": [
    {
      "cell_type": "code",
      "execution_count": null,
      "metadata": {
        "collapsed": false
      },
      "outputs": [],
      "source": [
        "%matplotlib inline"
      ]
    },
    {
      "cell_type": "markdown",
      "metadata": {},
      "source": [
        "\n# Airborne magnetic survey of Britain\n\nThis is a digitization of an airborne magnetic survey of Britain. Data are\nsampled where flight lines crossed contours on the archive maps. Contains\nonly the total field magnetic anomaly, not the magnetic field intensity\nmeasurements or corrections.\n\nUnfortunately, the exact date of measurements is not available (only the year).\n\nContains British Geological Survey materials \u00a9 UKRI 2021.\n\n**Original source:**\n`British Geological Survey\n<https://www.bgs.ac.uk/datasets/gb-aeromagnetic-survey/>`__\n"
      ]
    },
    {
      "cell_type": "code",
      "execution_count": null,
      "metadata": {
        "collapsed": false
      },
      "outputs": [],
      "source": [
        "import numpy as np\nimport pandas as pd\nimport pygmt\n\nimport ensaio.v1 as ensaio"
      ]
    },
    {
      "cell_type": "markdown",
      "metadata": {},
      "source": [
        "Download and cache the data and return the path to it on disk\n\n"
      ]
    },
    {
      "cell_type": "code",
      "execution_count": null,
      "metadata": {
        "collapsed": false
      },
      "outputs": [],
      "source": [
        "fname = ensaio.fetch_britain_magnetic()\nprint(fname)"
      ]
    },
    {
      "cell_type": "markdown",
      "metadata": {},
      "source": [
        "Load the CSV formatted data with pandas\n\n"
      ]
    },
    {
      "cell_type": "code",
      "execution_count": null,
      "metadata": {
        "collapsed": false
      },
      "outputs": [],
      "source": [
        "data = pd.read_csv(fname)\ndata"
      ]
    },
    {
      "cell_type": "markdown",
      "metadata": {},
      "source": [
        "Make a PyGMT map with the data points colored by the total field magnetic\nanomaly.\n\n"
      ]
    },
    {
      "cell_type": "code",
      "execution_count": null,
      "metadata": {
        "collapsed": false
      },
      "outputs": [],
      "source": [
        "fig = pygmt.Figure()\nscale = np.percentile(data.total_field_anomaly_nt, 95)\npygmt.makecpt(cmap=\"polar\", series=[-scale, scale])\nfig.plot(\n    x=data.longitude,\n    y=data.latitude,\n    style=\"c0.02c\",\n    color=data.total_field_anomaly_nt,\n    cmap=True,\n    projection=\"M15c\",\n)\nfig.colorbar(frame='af+l\"nT\"', position=\"jBL+h+w7c/0.2c+o1/2\")\nfig.coast(shorelines=True)\nfig.basemap(frame=\"afg\")\nfig.show()"
      ]
    }
  ],
  "metadata": {
    "kernelspec": {
      "display_name": "Python 3",
      "language": "python",
      "name": "python3"
    },
    "language_info": {
      "codemirror_mode": {
        "name": "ipython",
        "version": 3
      },
      "file_extension": ".py",
      "mimetype": "text/x-python",
      "name": "python",
      "nbconvert_exporter": "python",
      "pygments_lexer": "ipython3",
      "version": "3.9.9"
    }
  },
  "nbformat": 4,
  "nbformat_minor": 0
}