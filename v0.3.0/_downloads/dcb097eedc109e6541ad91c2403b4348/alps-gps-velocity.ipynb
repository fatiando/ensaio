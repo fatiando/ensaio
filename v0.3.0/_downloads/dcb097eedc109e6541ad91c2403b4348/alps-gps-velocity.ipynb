{
  "cells": [
    {
      "cell_type": "code",
      "execution_count": null,
      "metadata": {
        "collapsed": false
      },
      "outputs": [],
      "source": [
        "%matplotlib inline"
      ]
    },
    {
      "cell_type": "markdown",
      "metadata": {},
      "source": [
        "\n# GPS velocities (3-component) for the Alps\n\nThis is a compilation of 3D GPS velocities for the Alps. The horizontal\nvelocities are reference to the Eurasian frame. All velocity components and\neven the position have error estimates, which is very useful and rare to find\nin a lot of datasets.\n\n**Original source:**\n`S\u00e1nchez et al. (2018) <https://doi.org/10.1594/PANGAEA.886889>`__\n"
      ]
    },
    {
      "cell_type": "code",
      "execution_count": null,
      "metadata": {
        "collapsed": false
      },
      "outputs": [],
      "source": [
        "import numpy as np\nimport pandas as pd\nimport pygmt\n\nimport ensaio"
      ]
    },
    {
      "cell_type": "markdown",
      "metadata": {},
      "source": [
        "Download and cache the data and return the path to it on disk\n\n"
      ]
    },
    {
      "cell_type": "code",
      "execution_count": null,
      "metadata": {
        "collapsed": false
      },
      "outputs": [],
      "source": [
        "fname = ensaio.fetch_alps_gps(version=1)\nprint(fname)"
      ]
    },
    {
      "cell_type": "markdown",
      "metadata": {},
      "source": [
        "Load the CSV formatted data with pandas\n\n"
      ]
    },
    {
      "cell_type": "code",
      "execution_count": null,
      "metadata": {
        "collapsed": false
      },
      "outputs": [],
      "source": [
        "data = pd.read_csv(fname)\ndata"
      ]
    },
    {
      "cell_type": "markdown",
      "metadata": {},
      "source": [
        "To plot the vectors with PyGMT, we need to convert the horizontal components\ninto angle (azimuth) and length.\n\n"
      ]
    },
    {
      "cell_type": "code",
      "execution_count": null,
      "metadata": {
        "collapsed": false
      },
      "outputs": [],
      "source": [
        "angle = np.degrees(np.arctan2(data.velocity_north_mmyr, data.velocity_east_mmyr))\nlength = np.hypot(data.velocity_north_mmyr, data.velocity_east_mmyr)"
      ]
    },
    {
      "cell_type": "markdown",
      "metadata": {},
      "source": [
        "Now we can make a PyGMT map with the horizontal velocity vectors and vertical\nvelocities encoded as colored points.\n\n"
      ]
    },
    {
      "cell_type": "code",
      "execution_count": null,
      "metadata": {
        "collapsed": false
      },
      "outputs": [],
      "source": [
        "# West, East, South, North boundaries of the map\nregion = [-5, 20, 40, 55]\n\nfig = pygmt.Figure()\nwith fig.subplot(\n    nrows=1,\n    ncols=2,\n    figsize=(\"35c\", \"15c\"),\n    sharey=\"l\",  # shared y-axis on the left side\n    frame=\"WSrt\",\n):\n    with fig.set_panel(0):\n        fig.basemap(region=region, projection=\"M?\", frame=\"af\")\n        fig.coast(area_thresh=1e4, land=\"#eeeeee\")\n        scale_factor = 2 / length.max()\n        fig.plot(\n            x=data.longitude,\n            y=data.latitude,\n            direction=[angle, length * scale_factor],\n            style=\"v0.15c+e\",\n            color=\"blue\",\n            pen=\"1p,blue\",\n        )\n        # Plot a quiver caption\n        fig.plot(\n            x=-4,\n            y=42,\n            direction=[[0], [1 * scale_factor]],\n            style=\"v0.15c+e\",\n            color=\"blue\",\n            pen=\"1p,blue\",\n        )\n        fig.text(\n            x=-4,\n            y=42.2,\n            text=\"1 mm/yr\",\n            justify=\"BL\",\n            font=\"10p,Helvetica,blue\",\n        )\n    with fig.set_panel(1):\n        fig.basemap(region=region, projection=\"M?\", frame=\"af\")\n        fig.coast(area_thresh=1e4, land=\"#eeeeee\")\n        pygmt.makecpt(\n            cmap=\"polar\",\n            series=[data.velocity_up_mmyr.min(), data.velocity_up_mmyr.max()],\n        )\n        fig.plot(\n            x=data.longitude,\n            y=data.latitude,\n            color=data.velocity_up_mmyr,\n            style=\"c0.2c\",\n            cmap=True,\n            pen=\"0.5p,black\",\n        )\n        fig.colorbar(\n            frame='af+l\"vertical velocity [mm/yr]\"',\n            position=\"jTL+w7c/0.3c+h+o1/1\",\n        )\nfig.show()"
      ]
    }
  ],
  "metadata": {
    "kernelspec": {
      "display_name": "Python 3",
      "language": "python",
      "name": "python3"
    },
    "language_info": {
      "codemirror_mode": {
        "name": "ipython",
        "version": 3
      },
      "file_extension": ".py",
      "mimetype": "text/x-python",
      "name": "python",
      "nbconvert_exporter": "python",
      "pygments_lexer": "ipython3",
      "version": "3.9.0"
    }
  },
  "nbformat": 4,
  "nbformat_minor": 0
}