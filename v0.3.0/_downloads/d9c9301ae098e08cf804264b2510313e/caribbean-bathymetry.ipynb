{
  "cells": [
    {
      "cell_type": "code",
      "execution_count": null,
      "metadata": {
        "collapsed": false
      },
      "outputs": [],
      "source": [
        "%matplotlib inline"
      ]
    },
    {
      "cell_type": "markdown",
      "metadata": {},
      "source": [
        "\n# Bathymetry single-beam surveys of the Caribbean\n\nThis dataset is a compilation of several public domain single-beam bathymetry\nsurveys of the ocean in the Caribbean. The data display a wide range of\ntectonic activity, uneven distribution, and even clear systematic errors in\nsome of the survey lines.\n\n**Original source:** `NOAA NCEI\n<https://ngdc.noaa.gov/mgg/geodas/trackline.html>`__\n"
      ]
    },
    {
      "cell_type": "code",
      "execution_count": null,
      "metadata": {
        "collapsed": false
      },
      "outputs": [],
      "source": [
        "import pandas as pd\nimport pygmt\n\nimport ensaio"
      ]
    },
    {
      "cell_type": "markdown",
      "metadata": {},
      "source": [
        "Download and cache the data and return the path to it on disk\n\n"
      ]
    },
    {
      "cell_type": "code",
      "execution_count": null,
      "metadata": {
        "collapsed": false
      },
      "outputs": [],
      "source": [
        "fname = ensaio.fetch_caribbean_bathymetry(version=1)\nprint(fname)"
      ]
    },
    {
      "cell_type": "markdown",
      "metadata": {},
      "source": [
        "Load the CSV formatted data with pandas\n\n"
      ]
    },
    {
      "cell_type": "code",
      "execution_count": null,
      "metadata": {
        "collapsed": false
      },
      "outputs": [],
      "source": [
        "data = pd.read_csv(fname)\ndata"
      ]
    },
    {
      "cell_type": "markdown",
      "metadata": {},
      "source": [
        "Make a PyGMT map with the data points colored by the depth.\n\n"
      ]
    },
    {
      "cell_type": "code",
      "execution_count": null,
      "metadata": {
        "collapsed": false
      },
      "outputs": [],
      "source": [
        "fig = pygmt.Figure()\nfig.basemap(\n    region=[\n        data.longitude.min(),\n        data.longitude.max(),\n        data.latitude.min(),\n        data.latitude.max(),\n    ],\n    projection=\"M15c\",\n    frame=True,\n)\npygmt.makecpt(cmap=\"viridis\", series=[data.depth_m.min(), data.depth_m.max()])\nfig.plot(\n    x=data.longitude, y=data.latitude, color=data.depth_m, cmap=True, style=\"c0.02c\"\n)\nfig.colorbar(frame='af+l\"bathymetric depth [m]\"')\nfig.coast(land=\"#666666\")\nfig.show()"
      ]
    }
  ],
  "metadata": {
    "kernelspec": {
      "display_name": "Python 3",
      "language": "python",
      "name": "python3"
    },
    "language_info": {
      "codemirror_mode": {
        "name": "ipython",
        "version": 3
      },
      "file_extension": ".py",
      "mimetype": "text/x-python",
      "name": "python",
      "nbconvert_exporter": "python",
      "pygments_lexer": "ipython3",
      "version": "3.9.0"
    }
  },
  "nbformat": 4,
  "nbformat_minor": 0
}