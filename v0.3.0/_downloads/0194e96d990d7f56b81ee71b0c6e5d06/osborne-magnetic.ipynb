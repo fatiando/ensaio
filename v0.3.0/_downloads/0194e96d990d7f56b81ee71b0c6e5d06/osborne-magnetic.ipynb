{
  "cells": [
    {
      "cell_type": "code",
      "execution_count": null,
      "metadata": {
        "collapsed": false
      },
      "outputs": [],
      "source": [
        "%matplotlib inline"
      ]
    },
    {
      "cell_type": "markdown",
      "metadata": {},
      "source": [
        "\n# Magnetic airborne survey of the Osborne Mine, Australia\n\nThis is a section of a survey acquired in 1990 by the Queensland\nGovernment, Australia. The line data have approximately 80 m terrain\nclearance and 200 m line spacing. The section contains\nthe total field magnetic anomalies associated with the Osborne Mine,\nLightning Creek sill complex, and the Brumby prospect.\n\n**Original source:**\n`Geophysical Acquisition & Processing Section 2019. MIM Data from Mt Isa\nInlier, QLD (P1029), magnetic line data, AWAGS levelled. Geoscience Australia,\nCanberra <http://pid.geoscience.gov.au/dataset/ga/142419>`__\n"
      ]
    },
    {
      "cell_type": "code",
      "execution_count": null,
      "metadata": {
        "collapsed": false
      },
      "outputs": [],
      "source": [
        "import pandas as pd\nimport pygmt\n\nimport ensaio"
      ]
    },
    {
      "cell_type": "markdown",
      "metadata": {},
      "source": [
        "Download and cache the data and return the path to it on disk\n\n"
      ]
    },
    {
      "cell_type": "code",
      "execution_count": null,
      "metadata": {
        "collapsed": false
      },
      "outputs": [],
      "source": [
        "fname = ensaio.fetch_osborne_magnetic(version=1)\nprint(fname)"
      ]
    },
    {
      "cell_type": "markdown",
      "metadata": {},
      "source": [
        "Load the CSV formatted data with pandas\n\n"
      ]
    },
    {
      "cell_type": "code",
      "execution_count": null,
      "metadata": {
        "collapsed": false
      },
      "outputs": [],
      "source": [
        "data = pd.read_csv(fname)\ndata"
      ]
    },
    {
      "cell_type": "markdown",
      "metadata": {},
      "source": [
        "Make a PyGMT map with the data points colored by the total field magnetic\nanomaly.\n\n"
      ]
    },
    {
      "cell_type": "code",
      "execution_count": null,
      "metadata": {
        "collapsed": false
      },
      "outputs": [],
      "source": [
        "fig = pygmt.Figure()\nfig.basemap(\n    projection=\"M15c\",\n    region=[\n        data.longitude.min(),\n        data.longitude.max(),\n        data.latitude.min(),\n        data.latitude.max(),\n    ],\n    frame=\"af\",\n)\nscale = 1500\npygmt.makecpt(cmap=\"polar+h\", series=[-scale, scale], background=True)\nfig.plot(\n    x=data.longitude,\n    y=data.latitude,\n    color=data.total_field_anomaly_nt,\n    style=\"c0.075c\",\n    cmap=True,\n)\nfig.colorbar(\n    frame='af+l\"total field magnetic anomaly [nT]\"',\n    position=\"JBC+h+o0/1c+e\",\n)\nfig.show()"
      ]
    },
    {
      "cell_type": "markdown",
      "metadata": {},
      "source": [
        "The anomaly at the bottom left is the Osborne Mine. The ones on the top right\nare the Lightning Creek sill complex (the largest) and the Brumby prospect\n(one of the smaller anomalies).\n\n"
      ]
    }
  ],
  "metadata": {
    "kernelspec": {
      "display_name": "Python 3",
      "language": "python",
      "name": "python3"
    },
    "language_info": {
      "codemirror_mode": {
        "name": "ipython",
        "version": 3
      },
      "file_extension": ".py",
      "mimetype": "text/x-python",
      "name": "python",
      "nbconvert_exporter": "python",
      "pygments_lexer": "ipython3",
      "version": "3.9.0"
    }
  },
  "nbformat": 4,
  "nbformat_minor": 0
}