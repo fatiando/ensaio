{
  "cells": [
    {
      "cell_type": "code",
      "execution_count": null,
      "metadata": {
        "collapsed": false
      },
      "outputs": [],
      "source": [
        "%matplotlib inline"
      ]
    },
    {
      "cell_type": "markdown",
      "metadata": {},
      "source": [
        "\n\n# Using Ensaio in your project\n\nOne of the main use cases of Ensaio is to provide reproducible and\neasy-to-access data for the documentation of other Python projects.\nThese are a few tips and tricks for using Ensaio in your own project.\n"
      ]
    },
    {
      "cell_type": "markdown",
      "metadata": {},
      "source": [
        "## Importing a specific version\n\nThe recommended way to import Ensaio is:\n\n"
      ]
    },
    {
      "cell_type": "code",
      "execution_count": null,
      "metadata": {
        "collapsed": false
      },
      "outputs": [],
      "source": [
        "import ensaio.v1 as ensaio\n\nfname = ensaio.fetch_southern_africa_gravity()"
      ]
    },
    {
      "cell_type": "markdown",
      "metadata": {},
      "source": [
        "<div class=\"alert alert-info\"><h4>Note</h4><p>Replace ``v1`` with the version you want.</p></div>\n\nMajor releases of the data collection that\nbreak backwards compatibility (and would be likely to break your code) are\nencapsulated in their own modules.\nSo using the :mod:`ensaio.v1` module will make sure your code works with\nany version of Ensaio.\n\nOf course, please try to update your code to use newer versions of the data\ncollection whenever possible.\n\n"
      ]
    },
    {
      "cell_type": "markdown",
      "metadata": {},
      "source": [
        "## Download from GitHub on CI\n\nBy default, the data source for Ensaio is an archive with a given DOI.\nYou can also specify alternative data download URLs using the\n``ENSAIO_V1_URL`` environment variable (each data version gets their own\nvariable so adjust accordingly).\n\nWe recommend using the environment variable to download from the\nGitHub release of the data when running on continuous integration (CI).\nThis will minimize the load that is placed on public data servers like\nZenodo.\nWhen using GitHub Actions, this may even make the downloads much faster since\nthe data source is likely physically closer to the CI infrastructure.\n\nSee the ``URL`` module-level variables for each version to find the exact URL\nyou need (like :const:`ensaio.v1.URL`).\n\n.. important::\n\n    You may need to update the URL whenever you update Ensaio to access new\n    data added in a minor data release.\n\n\n"
      ]
    }
  ],
  "metadata": {
    "kernelspec": {
      "display_name": "Python 3",
      "language": "python",
      "name": "python3"
    },
    "language_info": {
      "codemirror_mode": {
        "name": "ipython",
        "version": 3
      },
      "file_extension": ".py",
      "mimetype": "text/x-python",
      "name": "python",
      "nbconvert_exporter": "python",
      "pygments_lexer": "ipython3",
      "version": "3.9.9"
    }
  },
  "nbformat": 4,
  "nbformat_minor": 0
}