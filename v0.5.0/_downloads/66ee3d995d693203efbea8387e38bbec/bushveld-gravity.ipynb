{
  "cells": [
    {
      "cell_type": "code",
      "execution_count": null,
      "metadata": {
        "collapsed": false
      },
      "outputs": [],
      "source": [
        "%matplotlib inline"
      ]
    },
    {
      "cell_type": "markdown",
      "metadata": {},
      "source": [
        "\n# Gravity ground-based data over the Bushveld Complex, Southern Africa\n\nThis dataset contains ground gravity observations over the area that comprises\nthe Bushveld Igenous Complex in Southern Africa, including preprocessed gravity\nfields such as the **gravity disturbance** and the **Bouguer gravity\ndisturbance** (topography-free gravity disturbance). In addition, the dataset\ncontains the heights of the observation points referenced on the WGS84\nreference ellipsoid and over the mean sea-level (what can be considered to be\nthe geoid). This dataset was built upon a portion of the Southern Africa\ngravity compilation available through NOAA NCEI.\n\n**Original source:**\n\n* Gravity: `NOAA NCEI <https://www.ngdc.noaa.gov/mgg/gravity/>`__\n* Topography: `ETOPO1 <https://doi.org/10.7289/V5C8276M>`__\n\n**Pre-processing:** `Source code for preparation of the original dataset for\nredistribution in Ensaio <https://github.com/fatiando-data/bushveld-gravity>`__\n"
      ]
    },
    {
      "cell_type": "code",
      "execution_count": null,
      "metadata": {
        "collapsed": false
      },
      "outputs": [],
      "source": [
        "import numpy as np\nimport pandas as pd\nimport pygmt\n\nimport ensaio"
      ]
    },
    {
      "cell_type": "markdown",
      "metadata": {},
      "source": [
        "Download and cache the data and return the path to it on disk\n\n"
      ]
    },
    {
      "cell_type": "code",
      "execution_count": null,
      "metadata": {
        "collapsed": false
      },
      "outputs": [],
      "source": [
        "fname = ensaio.fetch_bushveld_gravity(version=1)\nprint(fname)"
      ]
    },
    {
      "cell_type": "markdown",
      "metadata": {},
      "source": [
        "Load the CSV formatted data with pandas\n\n"
      ]
    },
    {
      "cell_type": "code",
      "execution_count": null,
      "metadata": {
        "collapsed": false
      },
      "outputs": [],
      "source": [
        "data = pd.read_csv(fname)\ndata"
      ]
    },
    {
      "cell_type": "markdown",
      "metadata": {},
      "source": [
        "Make a PyGMT map with the data points colored by the gravity data.\n\n"
      ]
    },
    {
      "cell_type": "code",
      "execution_count": null,
      "metadata": {
        "collapsed": false
      },
      "outputs": [],
      "source": [
        "fig = pygmt.Figure()\nfig.basemap(\n    region=[\n        data.longitude.min(),\n        data.longitude.max(),\n        data.latitude.min(),\n        data.latitude.max(),\n    ],\n    projection=\"M15c\",\n    frame=True,\n)\nfig.coast(land=\"#444444\")\nscale = np.max(np.abs(data.gravity_disturbance_mgal))\npygmt.makecpt(\n    cmap=\"polar\",\n    series=[-scale, scale],\n)\nfig.plot(\n    x=data.longitude,\n    y=data.latitude,\n    color=data.gravity_disturbance_mgal,\n    cmap=True,\n    style=\"c0.1c\",\n)\nfig.colorbar(frame='af+l\"gravity disturbance [mGal]\"')\nfig.show()"
      ]
    }
  ],
  "metadata": {
    "kernelspec": {
      "display_name": "Python 3",
      "language": "python",
      "name": "python3"
    },
    "language_info": {
      "codemirror_mode": {
        "name": "ipython",
        "version": 3
      },
      "file_extension": ".py",
      "mimetype": "text/x-python",
      "name": "python",
      "nbconvert_exporter": "python",
      "pygments_lexer": "ipython3",
      "version": "3.9.0"
    }
  },
  "nbformat": 4,
  "nbformat_minor": 0
}